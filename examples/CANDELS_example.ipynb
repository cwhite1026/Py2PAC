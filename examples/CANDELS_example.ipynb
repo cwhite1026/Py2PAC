{
 "cells": [
  {
   "cell_type": "markdown",
   "metadata": {},
   "source": [
    "# CANDELS correlation function example\n",
    "\n",
    "This is a short example that takes you from galaxy catalog file and FITS weight file to a correlation function.  We'll just use GOODS-S because the multi-catalog code hasn't been incorporated into Py2PAC yet.  **This only works with access to the STScI central storage system.**"
   ]
  },
  {
   "cell_type": "code",
   "execution_count": null,
   "metadata": {
    "collapsed": true
   },
   "outputs": [],
   "source": [
    "import AngularCatalog_class as ac\n",
    "import astropy.io.fits as fits\n",
    "from numpy import ma\n",
    "\n",
    "#Read in the galaxy catalog\n",
    "gs_data = fits.open(\"/Users/caviglia/Box Sync/merged_catalogs/gds.fits\")\n",
    "gs_data = gs_data[1].data\n",
    "msk = ma.masked_less(gs_data['Hmag'], 26).mask \n",
    "\n",
    "#Generate an AngularCatalog with the ImageMask from the appropriate weight file\n",
    "file_name = '/astro/candels1/data/goodss/mosaics/current/goods_s_all_combined_v0.5/gs_all_candels_ers_udf_f160w_060mas_v0.5_wht.fits'\n",
    "cat = ac.AngularCatalog(gs_data['RAdeg'], gs_data['DECdeg'], weight_file = file_name)\n",
    "\n",
    "#Generate the random sample\n",
    "cat.generate_random_sample(number_to_make=1e5)\n",
    "\n",
    "#Set the theta binning\n",
    "cat.set_theta_bins(10, 350, 7)\n",
    "\n",
    "#Do the correlation function\n",
    "cat.cf_bootstrap(n_boots=40, clobber=True, name=\"single_gal_cf\")\n",
    "\n",
    "#Plot correlation function\n",
    "cat.plot_cfs(which_cfs=['single_gal_cf'], labels=[\"Single gal bootstrap\"], fmt='o-')\n"
   ]
  }
 ],
 "metadata": {
  "kernelspec": {
   "display_name": "Python 2",
   "language": "python",
   "name": "python2"
  },
  "language_info": {
   "codemirror_mode": {
    "name": "ipython",
    "version": 2
   },
   "file_extension": ".py",
   "mimetype": "text/x-python",
   "name": "python",
   "nbconvert_exporter": "python",
   "pygments_lexer": "ipython2",
   "version": "2.7.11"
  }
 },
 "nbformat": 4,
 "nbformat_minor": 0
}
