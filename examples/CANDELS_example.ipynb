{
 "cells": [
  {
   "cell_type": "markdown",
   "metadata": {},
   "source": [
    "# CANDELS correlation function example\n",
    "\n",
    "This is a short example that takes you from galaxy catalog file and FITS weight file to a correlation function.  We'll just use GOODS-S because the multi-catalog code hasn't been incorporated into Py2PAC yet.  **This only works with access to the STScI central storage system.**"
   ]
  },
  {
   "cell_type": "code",
   "execution_count": 13,
   "metadata": {
    "collapsed": true
   },
   "outputs": [],
   "source": [
    "import AngularCatalog_class as ac\n",
    "import astropy.io.fits as fits\n",
    "from numpy import ma"
   ]
  },
  {
   "cell_type": "code",
   "execution_count": 14,
   "metadata": {
    "collapsed": true
   },
   "outputs": [],
   "source": [
    "catalogdir = \"/Users/hcferguson/Box Sync/Ferguson/CANDELS Catalog Team Release May 2015/merged_catalogs/\"\n",
    "imagedir = \"/Users/hcferguson/data/candels/goodss/mosaics/current/goods_s_all_combined_v0.5/\""
   ]
  },
  {
   "cell_type": "code",
   "execution_count": 15,
   "metadata": {
    "collapsed": false
   },
   "outputs": [
    {
     "ename": "AttributeError",
     "evalue": "'NoneType' object has no attribute 'generate_random_sample'",
     "output_type": "error",
     "traceback": [
      "\u001b[0;31m---------------------------------------------------------------------------\u001b[0m",
      "\u001b[0;31mAttributeError\u001b[0m                            Traceback (most recent call last)",
      "\u001b[0;32m<ipython-input-15-2e7f4fc6314b>\u001b[0m in \u001b[0;36m<module>\u001b[0;34m()\u001b[0m\n\u001b[1;32m      9\u001b[0m \u001b[0;34m\u001b[0m\u001b[0m\n\u001b[1;32m     10\u001b[0m \u001b[0;31m#Generate the random sample\u001b[0m\u001b[0;34m\u001b[0m\u001b[0;34m\u001b[0m\u001b[0m\n\u001b[0;32m---> 11\u001b[0;31m \u001b[0mcat\u001b[0m\u001b[0;34m.\u001b[0m\u001b[0mgenerate_random_sample\u001b[0m\u001b[0;34m(\u001b[0m\u001b[0mnumber_to_make\u001b[0m\u001b[0;34m=\u001b[0m\u001b[0;36m1e5\u001b[0m\u001b[0;34m)\u001b[0m\u001b[0;34m\u001b[0m\u001b[0m\n\u001b[0m\u001b[1;32m     12\u001b[0m \u001b[0;34m\u001b[0m\u001b[0m\n\u001b[1;32m     13\u001b[0m \u001b[0;31m#Set the theta binning\u001b[0m\u001b[0;34m\u001b[0m\u001b[0;34m\u001b[0m\u001b[0m\n",
      "\u001b[0;32m/Users/hcferguson/software/git-clones/Py2PAC/py2pac/AngularCatalog_class.pyc\u001b[0m in \u001b[0;36mgenerate_random_sample\u001b[0;34m(self, number_to_make, multiple_of_data, density_on_sky)\u001b[0m\n\u001b[1;32m    407\u001b[0m                              \"or number_to_make.\")\n\u001b[1;32m    408\u001b[0m \u001b[0;34m\u001b[0m\u001b[0m\n\u001b[0;32m--> 409\u001b[0;31m         \u001b[0;31m#Make sure we have an integer\u001b[0m\u001b[0;34m\u001b[0m\u001b[0;34m\u001b[0m\u001b[0m\n\u001b[0m\u001b[1;32m    410\u001b[0m         \u001b[0mN_make\u001b[0m \u001b[0;34m=\u001b[0m \u001b[0mint\u001b[0m\u001b[0;34m(\u001b[0m\u001b[0mN_make\u001b[0m\u001b[0;34m)\u001b[0m\u001b[0;34m\u001b[0m\u001b[0m\n\u001b[1;32m    411\u001b[0m \u001b[0;34m\u001b[0m\u001b[0m\n",
      "\u001b[0;31mAttributeError\u001b[0m: 'NoneType' object has no attribute 'generate_random_sample'"
     ]
    }
   ],
   "source": [
    "#Read in the galaxy catalog\n",
    "gs_data = fits.open(catalogdir+'gds.fits')\n",
    "gs_data = gs_data[1].data\n",
    "msk = ma.masked_less(gs_data['Hmag'], 26).mask \n",
    "\n",
    "#Generate an AngularCatalog with the ImageMask from the appropriate weight file\n",
    "file_name = imagedir+'gs_all_candels_ers_udf_f160w_060mas_v0.5_wht.fits'\n",
    "cat = ac.AngularCatalog(gs_data['RAdeg'], gs_data['DECdeg'], weight_file = file_name)\n",
    "\n",
    "#Generate the random sample\n",
    "cat.generate_random_sample(number_to_make=1e5)\n",
    "\n",
    "#Set the theta binning\n",
    "cat.set_theta_bins(10, 350, 7)\n",
    "\n",
    "#Do the correlation function\n",
    "cat.cf_bootstrap(n_boots=40, clobber=True, name=\"single_gal_cf\")\n",
    "\n",
    "#Plot correlation function\n",
    "cat.plot_cfs(which_cfs=['single_gal_cf'], labels=[\"Single gal bootstrap\"], fmt='o-')\n"
   ]
  },
  {
   "cell_type": "code",
   "execution_count": null,
   "metadata": {
    "collapsed": true
   },
   "outputs": [],
   "source": []
  }
 ],
 "metadata": {
  "kernelspec": {
   "display_name": "Python 2",
   "language": "python",
   "name": "python2"
  },
  "language_info": {
   "codemirror_mode": {
    "name": "ipython",
    "version": 2
   },
   "file_extension": ".py",
   "mimetype": "text/x-python",
   "name": "python",
   "nbconvert_exporter": "python",
   "pygments_lexer": "ipython2",
   "version": "2.7.12"
  }
 },
 "nbformat": 4,
 "nbformat_minor": 0
}
