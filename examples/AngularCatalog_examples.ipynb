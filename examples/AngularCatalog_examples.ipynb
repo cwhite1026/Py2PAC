{
 "cells": [
  {
   "cell_type": "markdown",
   "metadata": {},
   "source": [
    "# Using the AngularCatalog class\n",
    "\n",
    "This document walks through using Py2PAC to calculate correlation functions with or without error estimates.  We'll do this with the AngularCatalog class."
   ]
  },
  {
   "cell_type": "code",
   "execution_count": 4,
   "metadata": {
    "collapsed": false
   },
   "outputs": [],
   "source": [
    "import CorrelationFunction_class as cfclass\n",
    "import ThetaBins_class as binclass\n",
    "import Gp_class as gpclass\n",
    "import ImageMask_class as imclass\n",
    "import AngularCatalog_class as ac\n",
    "\n",
    "import numpy as np\n",
    "import numpy.random as rand\n",
    "import matplotlib.pyplot as plt\n",
    "import copy\n",
    "import brewer2mpl as brew"
   ]
  },
  {
   "cell_type": "code",
   "execution_count": null,
   "metadata": {
    "collapsed": true
   },
   "outputs": [],
   "source": []
  }
 ],
 "metadata": {
  "kernelspec": {
   "display_name": "Python 2",
   "language": "python",
   "name": "python2"
  },
  "language_info": {
   "codemirror_mode": {
    "name": "ipython",
    "version": 2
   },
   "file_extension": ".py",
   "mimetype": "text/x-python",
   "name": "python",
   "nbconvert_exporter": "python",
   "pygments_lexer": "ipython2",
   "version": "2.7.11"
  }
 },
 "nbformat": 4,
 "nbformat_minor": 0
}
