{
 "cells": [
  {
   "cell_type": "markdown",
   "metadata": {},
   "source": [
    "# CANDELS-like correlation function example\n",
    "\n",
    "This is a short example that takes you from galaxy catalog file and FITS weight file to a correlation function.  We'll use a single CANDELS tile as the mask (the tile weight file with the name \"hlsp_candels_hst_wfc3_gs-tot-sect33_f160w_v1.0_wht.fits\" can be found [here](https://archive.stsci.edu/pub/hlsp/candels/goods-s/gs-tot/v1.0/).  It is too large to be included in the github repository so it must be downloaded and placed in the examples folder).  We'll read in a randomly generated catalog that has been saved and included."
   ]
  },
  {
   "cell_type": "code",
   "execution_count": 3,
   "metadata": {
    "collapsed": true
   },
   "outputs": [],
   "source": [
    "import AngularCatalog_class as ac\n",
    "import astropy.io.fits as fits\n",
    "from astropy.io import ascii\n",
    "from numpy import ma"
   ]
  },
  {
   "cell_type": "code",
   "execution_count": 4,
   "metadata": {
    "collapsed": false
   },
   "outputs": [
    {
     "name": "stdout",
     "output_type": "stream",
     "text": [
      "weight file\n",
      "Trying to make the image mask\n",
      "make_mask_from_weights says: generating an image mask from a weight file\n",
      "make_mask_from_weights says: switching FITS file endianness\n",
      "make_mask_from_weights says: getting random subsample and calculating stats on random subsample\n",
      "Calculating the footprint of the mask\n",
      "return_completenesses says: I have 100000 points that are actually on the image\n",
      "return_completenesses says: I have 100000 points that are actually on the image\n"
     ]
    }
   ],
   "source": [
    "#Read in the galaxy catalog\n",
    "data = ascii.read('example_data.dat')\n",
    "\n",
    "#Generate an AngularCatalog with the ImageMask from the appropriate weight file\n",
    "weight_file = 'hlsp_candels_hst_wfc3_gs-tot-sect33_f160w_v1.0_wht.fits'\n",
    "cat = ac.AngularCatalog(data['ra'], data['dec'], weight_file = weight_file)"
   ]
  },
  {
   "cell_type": "code",
   "execution_count": 7,
   "metadata": {
    "collapsed": false
   },
   "outputs": [
    {
     "name": "stdout",
     "output_type": "stream",
     "text": [
      "return_completenesses says: I have 10000 points that are actually on the image\n",
      "ImageMask.generate_random_sample says:  We made 8020 and we need 10000.\n",
      "ImageMask.generate_random_sample says: I have made too few objects within the target area. Making more.\n",
      "return_completenesses says: I have 1979 points that are actually on the image\n",
      "ImageMask.generate_random_sample says:  We made 1603 and we need 1980.\n",
      "ImageMask.generate_random_sample says: I have made too few objects within the target area. Making more.\n",
      "return_completenesses says: I have 377 points that are actually on the image\n",
      "ImageMask.generate_random_sample says:  We made 302 and we need 377.\n",
      "ImageMask.generate_random_sample says: I have made too few objects within the target area. Making more.\n",
      "return_completenesses says: I have 74 points that are actually on the image\n",
      "ImageMask.generate_random_sample says:  We made 60 and we need 75.\n",
      "ImageMask.generate_random_sample says: I have made too few objects within the target area. Making more.\n",
      "return_completenesses says: I have 15 points that are actually on the image\n",
      "ImageMask.generate_random_sample says:  We made 11 and we need 15.\n",
      "ImageMask.generate_random_sample says: I have made too few objects within the target area. Making more.\n",
      "return_completenesses says: I have 4 points that are actually on the image\n",
      "ImageMask.generate_random_sample says:  We made 3 and we need 4.\n",
      "ImageMask.generate_random_sample says: I have made too few objects within the target area. Making more.\n",
      "return_completenesses says: I have 1 points that are actually on the image\n",
      "ImageMask.generate_random_sample says:  We made 1 and we need 1.\n",
      "make_randomtree says: Computing the BallTree for randoms.\n"
     ]
    }
   ],
   "source": [
    "#Generate the random sample\n",
    "cat.generate_random_sample(number_to_make=1e4)\n",
    "\n",
    "#Set the theta binning\n",
    "cat.set_theta_bins(10, 350, 7)"
   ]
  },
  {
   "cell_type": "code",
   "execution_count": 9,
   "metadata": {
    "collapsed": false
   },
   "outputs": [
    {
     "name": "stdout",
     "output_type": "stream",
     "text": [
      "CorrelationFunction.__init__ says: you did not provide any info on Gp.  Leaving it for later\n",
      "CorrelationFunction.__init__ says: you gave me a valid ThetaBin object.  Storing\n",
      "AngularCatalog.cf_bootstrap says: doing a bootstrap CF calculation\n",
      "calculating boot 0\n",
      "calculating boot 1\n",
      "calculating boot 2\n",
      "calculating boot 3\n",
      "calculating boot 4\n",
      "calculating boot 5\n",
      "calculating boot 6\n",
      "calculating boot 7\n",
      "calculating boot 8\n",
      "calculating boot 9\n",
      "calculating boot 10\n",
      "calculating boot 11\n",
      "calculating boot 12\n",
      "calculating boot 13\n",
      "calculating boot 14\n",
      "calculating boot 15\n",
      "calculating boot 16\n",
      "calculating boot 17\n",
      "calculating boot 18\n",
      "calculating boot 19\n"
     ]
    }
   ],
   "source": [
    "#Do the correlation function\n",
    "cat.cf_bootstrap(n_boots=20, clobber=True, name=\"single_gal_cf\")"
   ]
  },
  {
   "cell_type": "code",
   "execution_count": null,
   "metadata": {
    "collapsed": true
   },
   "outputs": [],
   "source": [
    "#Plot correlation function\n",
    "cat.plot_cfs(which_cfs=['single_gal_cf'], labels=[\"Single gal bootstrap\"], fmt='o-')"
   ]
  },
  {
   "cell_type": "code",
   "execution_count": null,
   "metadata": {
    "collapsed": true
   },
   "outputs": [],
   "source": []
  }
 ],
 "metadata": {
  "kernelspec": {
   "display_name": "Python 2",
   "language": "python",
   "name": "python2"
  },
  "language_info": {
   "codemirror_mode": {
    "name": "ipython",
    "version": 2
   },
   "file_extension": ".py",
   "mimetype": "text/x-python",
   "name": "python",
   "nbconvert_exporter": "python",
   "pygments_lexer": "ipython2",
   "version": "2.7.11"
  }
 },
 "nbformat": 4,
 "nbformat_minor": 0
}
