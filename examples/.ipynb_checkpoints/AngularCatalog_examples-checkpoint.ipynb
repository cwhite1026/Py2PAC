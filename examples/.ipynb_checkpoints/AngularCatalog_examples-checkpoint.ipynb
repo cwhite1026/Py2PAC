{
 "cells": [
  {
   "cell_type": "code",
   "execution_count": 1,
   "metadata": {
    "collapsed": false
   },
   "outputs": [
    {
     "ename": "ImportError",
     "evalue": "No module named CorrelationFunction_class",
     "output_type": "error",
     "traceback": [
      "\u001b[0;31m---------------------------------------------------------------------------\u001b[0m",
      "\u001b[0;31mImportError\u001b[0m                               Traceback (most recent call last)",
      "\u001b[0;32m<ipython-input-1-0f8324e9c8ff>\u001b[0m in \u001b[0;36m<module>\u001b[0;34m()\u001b[0m\n\u001b[0;32m----> 1\u001b[0;31m \u001b[0;32mimport\u001b[0m \u001b[0mCorrelationFunction_class\u001b[0m \u001b[0;32mas\u001b[0m \u001b[0mcfclass\u001b[0m\u001b[0;34m\u001b[0m\u001b[0m\n\u001b[0m\u001b[1;32m      2\u001b[0m \u001b[0;32mimport\u001b[0m \u001b[0mThetaBins_class\u001b[0m \u001b[0;32mas\u001b[0m \u001b[0mbinclass\u001b[0m\u001b[0;34m\u001b[0m\u001b[0m\n\u001b[1;32m      3\u001b[0m \u001b[0;32mimport\u001b[0m \u001b[0mpy2pac\u001b[0m\u001b[0;34m.\u001b[0m\u001b[0mGp_class\u001b[0m \u001b[0;32mas\u001b[0m \u001b[0mgpclass\u001b[0m\u001b[0;34m\u001b[0m\u001b[0m\n\u001b[1;32m      4\u001b[0m \u001b[0;32mimport\u001b[0m \u001b[0mpy2pac\u001b[0m\u001b[0;34m.\u001b[0m\u001b[0mImageMask_class\u001b[0m \u001b[0;32mas\u001b[0m \u001b[0mimclass\u001b[0m\u001b[0;34m\u001b[0m\u001b[0m\n\u001b[1;32m      5\u001b[0m \u001b[0;32mimport\u001b[0m \u001b[0mpy2pac\u001b[0m\u001b[0;34m.\u001b[0m\u001b[0mAngularCatalog_class\u001b[0m \u001b[0;32mas\u001b[0m \u001b[0mac\u001b[0m\u001b[0;34m\u001b[0m\u001b[0m\n",
      "\u001b[0;31mImportError\u001b[0m: No module named CorrelationFunction_class"
     ]
    }
   ],
   "source": [
    "import CorrelationFunction_class as cfclass\n",
    "import ThetaBins_class as binclass\n",
    "import py2pac.Gp_class as gpclass\n",
    "import py2pac.ImageMask_class as imclass\n",
    "import py2pac.AngularCatalog_class as ac\n",
    "\n",
    "import numpy as np\n",
    "import numpy.random as rand\n",
    "import matplotlib.pyplot as plt\n",
    "import copy\n",
    "import brewer2mpl as brew"
   ]
  },
  {
   "cell_type": "markdown",
   "metadata": {},
   "source": []
  },
  {
   "cell_type": "code",
   "execution_count": 7,
   "metadata": {
    "collapsed": false
   },
   "outputs": [
    {
     "name": "stdout",
     "output_type": "stream",
     "text": [
      "0\n",
      "Imported\n"
     ]
    }
   ],
   "source": [
    "import subprocess\n",
    "print subprocess.call([\"echo\", \"$PYTHONPATH\"])\n",
    "print \"Imported\""
   ]
  },
  {
   "cell_type": "code",
   "execution_count": null,
   "metadata": {
    "collapsed": true
   },
   "outputs": [],
   "source": []
  }
 ],
 "metadata": {
  "kernelspec": {
   "display_name": "Python 2",
   "language": "python",
   "name": "python2"
  },
  "language_info": {
   "codemirror_mode": {
    "name": "ipython",
    "version": 2
   },
   "file_extension": ".py",
   "mimetype": "text/x-python",
   "name": "python",
   "nbconvert_exporter": "python",
   "pygments_lexer": "ipython2",
   "version": "2.7.11"
  }
 },
 "nbformat": 4,
 "nbformat_minor": 0
}
